{
 "metadata": {
  "language_info": {
   "codemirror_mode": {
    "name": "ipython",
    "version": 3
   },
   "file_extension": ".py",
   "mimetype": "text/x-python",
   "name": "python",
   "nbconvert_exporter": "python",
   "pygments_lexer": "ipython3",
   "version": "3.8.3-final"
  },
  "orig_nbformat": 2,
  "kernelspec": {
   "name": "Python 3.8.3 64-bit ('base': conda)",
   "display_name": "Python 3.8.3 64-bit ('base': conda)",
   "metadata": {
    "interpreter": {
     "hash": "a9a327da903e20c24c9e613c48742f202ca4370c49254bdcc98e7ef6e4615685"
    }
   }
  }
 },
 "nbformat": 4,
 "nbformat_minor": 2,
 "cells": [
  {
   "cell_type": "code",
   "execution_count": 4,
   "metadata": {},
   "outputs": [],
   "source": [
    "import csv\n",
    "import os\n",
    "import numpy as np\n",
    "import matplotlib.pyplot as plt\n",
    "from codes.util import *\n",
    "from PIL import Image\n",
    "import matplotlib.image as mpimg\n",
    "from dataset import get_label\n",
    "from codes.util.check_dir import mk_dir\n"
   ]
  },
  {
   "cell_type": "code",
   "execution_count": 5,
   "metadata": {},
   "outputs": [],
   "source": [
    "def iou(a, b):    \n",
    "    a_norm = np.sqrt(np.sum(a**2))\n",
    "    b_norm = np.sqrt(np.sum(b**2))\n",
    "    a = (a / a_norm).reshape(-1)\n",
    "    b = (b / b_norm).reshape(-1)\n",
    "    up = [min(a[i], b[i]) for i in range(a.shape[0])]\n",
    "    down = [max(a[i], b[i]) for i in range(a.shape[0])]   \n",
    "    if sum(down)  != 0:\n",
    "        return sum(up) / sum(down)\n",
    "    else:\n",
    "        return -1\n",
    "def block_ptb(ptb, k=8, norm=2):    \n",
    "    res = np.zeros((k,k))\n",
    "    for r in range(k):\n",
    "        for c in range(k):   \n",
    "            tmp = ptb[:,12*r:12*(r+1),12*c:12*(c+1)]\n",
    "            if norm == 2:                \n",
    "                res[r][c] = np.sqrt(np.sum(tmp**2))\n",
    "            else:\n",
    "                res[r][c] = np.abs(tmp.sum(0)).max()\n",
    "    return res.reshape(-1)\n",
    "def cos(a, b):\n",
    "    up = np.sum(a*b)\n",
    "    down = np.linalg.norm(a) * np.linalg.norm(b)\n",
    "    return up/down"
   ]
  },
  {
   "cell_type": "code",
   "execution_count": 11,
   "metadata": {},
   "outputs": [
    {
     "output_type": "stream",
     "name": "stdout",
     "text": [
      "0 2008_008570.jpg saved\n"
     ]
    }
   ],
   "source": [
    "data = 'voc'\n",
    "net = 'alexnet'\n",
    "cates = os.listdir(f'./experiment/attribution/Perturb/li/{net}/{data}')\n",
    "\n",
    "for cate in cates:\n",
    "    for img in os.listdir(f'./experiment/attribution/Perturb/li/{net}/{data}/{cate}'):  \n",
    "        info = {}\n",
    "        for i,p in enumerate(['l2', 'li']):\n",
    "            info[p] = {}           \n",
    "            croot = f'./experiment/attribution/CSV/{p}/{net}/{data}/{cate}/{img}/shap.csv' \n",
    "            proot = f'./experiment/attribution/Perturb/{p}/{net}/{data}/{cate}/{img}/ptb.npy'\n",
    "            \n",
    "            if not (os.path.exists(croot) and os.path.exists(proot)):                \n",
    "                continue \n",
    "    \n",
    "            ptb = np.load(proot).squeeze()[:,8:104, 8:104]                  \n",
    "            mag = block_ptb(ptb,norm=2)              \n",
    "            shap = -1*np.genfromtxt(croot, delimiter=',')[-1,:].reshape(-1)  \n",
    "        \n",
    "            info[p]['mag'] = mag\n",
    "            info[p]['shap'] = shap\n",
    "        mk_dir(f'./experiment/attribution/iou/{data}_{net}')\n",
    "        np.save(f'./experiment/attribution/iou/{data}_{net}/{img[:-4]}.npy', info)\n",
    "        print (cate, img, 'saved')           "
   ]
  },
  {
   "cell_type": "code",
   "execution_count": 14,
   "metadata": {
    "tags": []
   },
   "outputs": [],
   "source": [
    "\n",
    "data = 'sdd'\n",
    "net = 'vgg16'\n",
    "def cal_iou(data, net):\n",
    "    shap, mag = [], []\n",
    "    for img in os.listdir(f'./experiment/attribution/iou/{data}_{net}'):\n",
    "        p = f'./experiment/attribution/iou/{data}_{net}/{img}'\n",
    "        f = np.load(p,allow_pickle=True).item()\n",
    "        try:\n",
    "            l2_shap = f['l2']['shap']\n",
    "            l2_mag = f['l2']['mag']\n",
    "            li_mag = f['li']['mag']\n",
    "            li_shap = f['li']['shap']\n",
    "        \n",
    "            nor_l2_shap = (l2_shap-l2_shap.min()) / (l2_shap.max()-l2_shap.min())\n",
    "            nor_l2_mag = (l2_mag-l2_mag.min()) / (l2_mag.max()-l2_mag.min())\n",
    "            nor_li_shap = (li_shap-li_shap.min()) / (li_shap.max()-li_shap.min())\n",
    "            nor_li_mag = (li_mag-li_mag.min()) / (li_mag.max()-li_mag.min())\n",
    "\n",
    "   \n",
    "            shap_iou, mag_iou = iou(nor_l2_shap, nor_li_shap), iou(nor_l2_mag, nor_li_mag)\n",
    "            if shap_iou>0 and mag_iou>0:\n",
    "                shap.append(shap_iou)\n",
    "                mag.append(mag_iou)        \n",
    "        except:\n",
    "            continue     \n",
    "    shap = np.array(shap)        \n",
    "    mag = np.array(mag)\n",
    "    print (data, net, len(shap), len(mag))\n",
    "    print (shap.mean(), shap.std(), mag.mean(), mag.std())\n",
    "\n",
    "# print (sum(shap)/len(shap), sum(mag)/len(mag))"
   ]
  },
  {
   "cell_type": "code",
   "execution_count": 16,
   "metadata": {
    "tags": []
   },
   "outputs": [
    {
     "output_type": "stream",
     "name": "stdout",
     "text": [
      "voc alexnet 1 1\n0.7917026840049256 0.0 0.6181878822962854 0.0\n"
     ]
    },
    {
     "output_type": "error",
     "ename": "FileNotFoundError",
     "evalue": "[Errno 2] No such file or directory: './experiment/attribution/iou/cub_alexnet'",
     "traceback": [
      "\u001b[0;31m---------------------------------------------------------------------------\u001b[0m",
      "\u001b[0;31mFileNotFoundError\u001b[0m                         Traceback (most recent call last)",
      "\u001b[0;32m<ipython-input-16-2e709f20b6e8>\u001b[0m in \u001b[0;36m<module>\u001b[0;34m\u001b[0m\n\u001b[1;32m      1\u001b[0m \u001b[0;32mfor\u001b[0m \u001b[0mnet\u001b[0m \u001b[0;32min\u001b[0m \u001b[0;34m[\u001b[0m\u001b[0;34m'alexnet'\u001b[0m\u001b[0;34m]\u001b[0m\u001b[0;34m:\u001b[0m\u001b[0;31m#, 'alexnet', ]:\u001b[0m\u001b[0;34m\u001b[0m\u001b[0;34m\u001b[0m\u001b[0m\n\u001b[1;32m      2\u001b[0m     \u001b[0;32mfor\u001b[0m \u001b[0mdata\u001b[0m \u001b[0;32min\u001b[0m \u001b[0;34m[\u001b[0m\u001b[0;34m'voc'\u001b[0m\u001b[0;34m,\u001b[0m\u001b[0;34m'cub'\u001b[0m\u001b[0;34m,\u001b[0m\u001b[0;34m'sdd'\u001b[0m\u001b[0;34m]\u001b[0m\u001b[0;34m:\u001b[0m\u001b[0;34m\u001b[0m\u001b[0;34m\u001b[0m\u001b[0m\n\u001b[0;32m----> 3\u001b[0;31m         \u001b[0mcal_iou\u001b[0m\u001b[0;34m(\u001b[0m\u001b[0mdata\u001b[0m\u001b[0;34m,\u001b[0m \u001b[0mnet\u001b[0m\u001b[0;34m)\u001b[0m\u001b[0;34m\u001b[0m\u001b[0;34m\u001b[0m\u001b[0m\n\u001b[0m",
      "\u001b[0;32m<ipython-input-14-58897053b663>\u001b[0m in \u001b[0;36mcal_iou\u001b[0;34m(data, net)\u001b[0m\n\u001b[1;32m      3\u001b[0m \u001b[0;32mdef\u001b[0m \u001b[0mcal_iou\u001b[0m\u001b[0;34m(\u001b[0m\u001b[0mdata\u001b[0m\u001b[0;34m,\u001b[0m \u001b[0mnet\u001b[0m\u001b[0;34m)\u001b[0m\u001b[0;34m:\u001b[0m\u001b[0;34m\u001b[0m\u001b[0;34m\u001b[0m\u001b[0m\n\u001b[1;32m      4\u001b[0m     \u001b[0mshap\u001b[0m\u001b[0;34m,\u001b[0m \u001b[0mmag\u001b[0m \u001b[0;34m=\u001b[0m \u001b[0;34m[\u001b[0m\u001b[0;34m]\u001b[0m\u001b[0;34m,\u001b[0m \u001b[0;34m[\u001b[0m\u001b[0;34m]\u001b[0m\u001b[0;34m\u001b[0m\u001b[0;34m\u001b[0m\u001b[0m\n\u001b[0;32m----> 5\u001b[0;31m     \u001b[0;32mfor\u001b[0m \u001b[0mimg\u001b[0m \u001b[0;32min\u001b[0m \u001b[0mos\u001b[0m\u001b[0;34m.\u001b[0m\u001b[0mlistdir\u001b[0m\u001b[0;34m(\u001b[0m\u001b[0;34mf'./experiment/attribution/iou/{data}_{net}'\u001b[0m\u001b[0;34m)\u001b[0m\u001b[0;34m:\u001b[0m\u001b[0;34m\u001b[0m\u001b[0;34m\u001b[0m\u001b[0m\n\u001b[0m\u001b[1;32m      6\u001b[0m         \u001b[0mp\u001b[0m \u001b[0;34m=\u001b[0m \u001b[0;34mf'./experiment/attribution/iou/{data}_{net}/{img}'\u001b[0m\u001b[0;34m\u001b[0m\u001b[0;34m\u001b[0m\u001b[0m\n\u001b[1;32m      7\u001b[0m         \u001b[0mf\u001b[0m \u001b[0;34m=\u001b[0m \u001b[0mnp\u001b[0m\u001b[0;34m.\u001b[0m\u001b[0mload\u001b[0m\u001b[0;34m(\u001b[0m\u001b[0mp\u001b[0m\u001b[0;34m,\u001b[0m\u001b[0mallow_pickle\u001b[0m\u001b[0;34m=\u001b[0m\u001b[0;32mTrue\u001b[0m\u001b[0;34m)\u001b[0m\u001b[0;34m.\u001b[0m\u001b[0mitem\u001b[0m\u001b[0;34m(\u001b[0m\u001b[0;34m)\u001b[0m\u001b[0;34m\u001b[0m\u001b[0;34m\u001b[0m\u001b[0m\n",
      "\u001b[0;31mFileNotFoundError\u001b[0m: [Errno 2] No such file or directory: './experiment/attribution/iou/cub_alexnet'"
     ]
    }
   ],
   "source": [
    "\n",
    "for net in ['alexnet']:#, 'alexnet', ]:\n",
    "    for data in ['voc','cub','sdd']:\n",
    "        cal_iou(data, net)"
   ]
  }
 ]
}